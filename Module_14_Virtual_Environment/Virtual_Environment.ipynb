{
 "cells": [
  {
   "cell_type": "markdown",
   "metadata": {},
   "source": [
    "# Exercises: Module 14"
   ]
  },
  {
   "cell_type": "markdown",
   "metadata": {},
   "source": [
    "## Exercises: Level 1"
   ]
  },
  {
   "cell_type": "markdown",
   "metadata": {},
   "source": [
    "### Question 1:\n",
    "Write a function which generates a six digit/character random_user_id.\n",
    "  ```python\n",
    "  print(random_user_id());\n",
    "  '1ee33d'\n"
   ]
  },
  {
   "cell_type": "code",
   "execution_count": 1,
   "metadata": {},
   "outputs": [
    {
     "name": "stdout",
     "output_type": "stream",
     "text": [
      "c3wqlp\n"
     ]
    }
   ],
   "source": [
    "import random\n",
    "import string\n",
    "\n",
    "def random_user_id():\n",
    "    characters = string.ascii_lowercase + string.digits  # all lowercase letters and digits\n",
    "    return ''.join(random.choices(characters, k=6))\n",
    "\n",
    "# Example usage:\n",
    "print(random_user_id())\n"
   ]
  },
  {
   "cell_type": "markdown",
   "metadata": {},
   "source": [
    "### Question 2:\n",
    "Modify the previous task. Declare a function named user_id_gen_by_user. It doesn’t take any parameters but it takes two inputs using input(). One of the inputs is the number of characters and the second input is the number of IDs which are supposed to be generated.\n",
    "```python\n",
    "print(user_id_gen_by_user()) # user input: 5 5\n",
    "#output:\n",
    "#kcsy2\n",
    "#SMFYb\n",
    "#bWmeq\n",
    "#ZXOYh\n",
    "#2Rgxf\n",
    "   \n",
    "print(user_id_gen_by_user()) # 16 5\n",
    "#1GCSgPLMaBAVQZ26\n",
    "#YD7eFwNQKNs7qXaT\n",
    "#ycArC5yrRupyG00S\n",
    "#UbGxOFI7UXSWAyKN\n",
    "#dIV0SSUTgAdKwStr"
   ]
  },
  {
   "cell_type": "code",
   "execution_count": null,
   "metadata": {},
   "outputs": [],
   "source": [
    "import random\n",
    "import string\n",
    "\n",
    "def user_id_gen_by_user():\n",
    "    # Taking user inputs\n",
    "    num_chars = int(input(\"Enter the number of characters per user ID: \"))\n",
    "    num_ids = int(input(\"Enter the number of IDs to generate: \"))\n",
    "    \n",
    "    # Character pool (letters and digits)\n",
    "    characters = string.ascii_letters + string.digits  # a-z, A-Z, 0-9\n",
    "    \n",
    "    # Generate and print the user IDs\n",
    "    for _ in range(num_ids):\n",
    "        user_id = ''.join(random.choices(characters, k=num_chars))\n",
    "        print(user_id)\n",
    "\n",
    "# Example usage:\n",
    "# print(user_id_gen_by_user())\n"
   ]
  },
  {
   "cell_type": "markdown",
   "metadata": {},
   "source": [
    "### Question 3:\n",
    "Write a function named rgb_color_gen. It will generate rgb colors (3 values ranging from 0 to 255 each).\n",
    "```python\n",
    "print(rgb_color_gen())\n",
    "# rgb(125,244,255) - the output should be in this form"
   ]
  },
  {
   "cell_type": "code",
   "execution_count": null,
   "metadata": {},
   "outputs": [],
   "source": [
    "import random\n",
    "\n",
    "def rgb_color_gen():\n",
    "    # Generate random values for Red, Green, and Blue components\n",
    "    red = random.randint(0, 255)\n",
    "    green = random.randint(0, 255)\n",
    "    blue = random.randint(0, 255)\n",
    "    \n",
    "    # Return the RGB color as a tuple\n",
    "    return (red, green, blue)\n",
    "\n",
    "# Example usage:\n",
    "print(rgb_color_gen())\n"
   ]
  },
  {
   "cell_type": "markdown",
   "metadata": {},
   "source": [
    "## Exercises: Level 2"
   ]
  },
  {
   "cell_type": "markdown",
   "metadata": {},
   "source": [
    "### Question 1:\n",
    "Write a function list_of_hexa_colors which returns any number of hexadecimal colors in an array (six hexadecimal numbers written after #. Hexadecimal numeral system is made out of 16 symbols, 0-9 and first 6 letters of the alphabet, a-f. Check the task 6 for output examples)."
   ]
  },
  {
   "cell_type": "code",
   "execution_count": null,
   "metadata": {},
   "outputs": [],
   "source": [
    "import random\n",
    "\n",
    "def list_of_hexa_colors(n):\n",
    "    # Define the pool of valid hexadecimal characters (0-9, a-f)\n",
    "    hex_chars = '0123456789abcdef'\n",
    "    \n",
    "    # Generate n hexadecimal colors\n",
    "    colors = []\n",
    "    for _ in range(n):\n",
    "        # Generate a random 6-character hex code (preceded by '#')\n",
    "        hex_color = '#' + ''.join(random.choices(hex_chars, k=6))\n",
    "        colors.append(hex_color)\n",
    "    \n",
    "    # Return the list of generated colors\n",
    "    return colors\n",
    "\n",
    "# Example usage:\n",
    "print(list_of_hexa_colors(5))\n"
   ]
  },
  {
   "cell_type": "markdown",
   "metadata": {},
   "source": [
    "### Question 2:\n",
    "Write a function list_of_rgb_colors which returns any number of RGB colors in an array."
   ]
  },
  {
   "cell_type": "code",
   "execution_count": null,
   "metadata": {},
   "outputs": [],
   "source": [
    "import random\n",
    "\n",
    "def list_of_rgb_colors(n):\n",
    "    # Generate n random RGB colors\n",
    "    colors = []\n",
    "    for _ in range(n):\n",
    "        # Generate random values for red, green, and blue\n",
    "        red = random.randint(0, 255)\n",
    "        green = random.randint(0, 255)\n",
    "        blue = random.randint(0, 255)\n",
    "        # Append the RGB tuple to the list\n",
    "        colors.append((red, green, blue))\n",
    "    \n",
    "    # Return the list of generated RGB colors\n",
    "    return colors\n",
    "\n",
    "# Example usage:\n",
    "print(list_of_rgb_colors(5))\n"
   ]
  },
  {
   "cell_type": "markdown",
   "metadata": {},
   "source": [
    "### Question 3:\n",
    "Write a function generate_colors which can generate any number of hexa or rgb colors.\n",
    "```python\n",
    "   generate_colors('hexa', 3) # ['#a3e12f','#03ed55','#eb3d2b'] \n",
    "   generate_colors('hexa', 1) # ['#b334ef']\n",
    "   generate_colors('rgb', 3)  # ['rgb(5, 55, 175','rgb(50, 105, 100','rgb(15, 26, 80'] \n",
    "   generate_colors('rgb', 1)  # ['rgb(33,79, 176)']"
   ]
  },
  {
   "cell_type": "code",
   "execution_count": null,
   "metadata": {},
   "outputs": [],
   "source": [
    "import random\n",
    "\n",
    "def generate_colors(color_type, n):\n",
    "    # Helper function to generate a random RGB color\n",
    "    def generate_rgb_color():\n",
    "        red = random.randint(0, 255)\n",
    "        green = random.randint(0, 255)\n",
    "        blue = random.randint(0, 255)\n",
    "        return f'rgb({red}, {green}, {blue})'\n",
    "\n",
    "    # Helper function to generate a random Hexadecimal color\n",
    "    def generate_hexa_color():\n",
    "        hex_chars = '0123456789abcdef'\n",
    "        return '#' + ''.join(random.choices(hex_chars, k=6))\n",
    "\n",
    "    colors = []\n",
    "    \n",
    "    # Generate the requested number of colors based on the specified color type\n",
    "    for _ in range(n):\n",
    "        if color_type == 'rgb':\n",
    "            colors.append(generate_rgb_color())\n",
    "        elif color_type == 'hexa':\n",
    "            colors.append(generate_hexa_color())\n",
    "        else:\n",
    "            raise ValueError(\"Invalid color type. Use 'hexa' or 'rgb'.\")\n",
    "    \n",
    "    return colors\n",
    "\n",
    "# Example usage:\n",
    "print(generate_colors('hexa', 3))  # Generates 3 Hex colors\n",
    "print(generate_colors('hexa', 1))  # Generates 1 Hex color\n",
    "print(generate_colors('rgb', 3))   # Generates 3 RGB colors\n",
    "print(generate_colors('rgb', 1))   # Generates 1 RGB color\n"
   ]
  },
  {
   "cell_type": "markdown",
   "metadata": {},
   "source": [
    "## Exercises: Level 3"
   ]
  },
  {
   "cell_type": "markdown",
   "metadata": {},
   "source": [
    "### Question 1:\n",
    "Call your function shuffle_list, it takes a list as a parameter and it returns a shuffled list"
   ]
  },
  {
   "cell_type": "code",
   "execution_count": null,
   "metadata": {},
   "outputs": [],
   "source": [
    "import random\n",
    "\n",
    "def shuffle_list(lst):\n",
    "    # Create a copy of the original list to avoid modifying it\n",
    "    shuffled_lst = lst[:]\n",
    "    \n",
    "    # Shuffle the copied list\n",
    "    random.shuffle(shuffled_lst)\n",
    "    \n",
    "    # Return the shuffled list\n",
    "    return shuffled_lst\n",
    "\n",
    "# Example usage:\n",
    "original_list = [1, 2, 3, 4, 5]\n",
    "shuffled = shuffle_list(original_list)\n",
    "print(\"Original List:\", original_list)\n",
    "print(\"Shuffled List:\", shuffled)\n"
   ]
  },
  {
   "cell_type": "markdown",
   "metadata": {},
   "source": [
    "### Question 2:\n",
    "Write a function which returns an array of seven random numbers in a range of 0-9. All the numbers must be unique."
   ]
  },
  {
   "cell_type": "code",
   "execution_count": null,
   "metadata": {},
   "outputs": [],
   "source": [
    "import random\n",
    "\n",
    "def unique_random_numbers():\n",
    "    # Generate 7 unique random numbers in the range 0-9\n",
    "    return random.sample(range(10), 7)\n",
    "\n",
    "# Example usage:\n",
    "print(unique_random_numbers())\n"
   ]
  }
 ],
 "metadata": {
  "kernelspec": {
   "display_name": "Arewa_Testing",
   "language": "python",
   "name": "python3"
  },
  "language_info": {
   "codemirror_mode": {
    "name": "ipython",
    "version": 3
   },
   "file_extension": ".py",
   "mimetype": "text/x-python",
   "name": "python",
   "nbconvert_exporter": "python",
   "pygments_lexer": "ipython3",
   "version": "3.10.15"
  }
 },
 "nbformat": 4,
 "nbformat_minor": 2
}
