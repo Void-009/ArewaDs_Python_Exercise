{
 "cells": [
  {
   "cell_type": "markdown",
   "metadata": {},
   "source": [
    "# Exception Handling/ Packing Unpacking Exercises:"
   ]
  },
  {
   "cell_type": "markdown",
   "metadata": {},
   "source": [
    "## Question 1:\n",
    "names = ['Finland', 'Sweden', 'Norway','Denmark','Iceland', 'Estonia','Russia']. Unpack the first five countries and store them in a variable nordic_countries, store Estonia and Russia in es, and ru respectively.\n"
   ]
  },
  {
   "cell_type": "code",
   "execution_count": 1,
   "metadata": {},
   "outputs": [
    {
     "name": "stdout",
     "output_type": "stream",
     "text": [
      "Nordic countries: ['Finland', 'Sweden', 'Norway', 'Denmark', 'Iceland']\n",
      "Estonia: Estonia\n",
      "Russia: Russia\n"
     ]
    }
   ],
   "source": [
    "names = ['Finland', 'Sweden', 'Norway', 'Denmark', 'Iceland', 'Estonia', 'Russia']\n",
    "\n",
    "# Unpack the first five countries into nordic_countries and the last two into es and ru\n",
    "fin, sw, nor, den, ice, *rest = names\n",
    "\n",
    "# Now, let's store Estonia and Russia in es and ru\n",
    "es, ru = rest\n",
    "\n",
    "# Store the first five countries in a variable nordic_countries\n",
    "nordic_countries = [fin, sw, nor, den, ice]\n",
    "\n",
    "# Print the results\n",
    "print(\"Nordic countries:\", nordic_countries)\n",
    "print(\"Estonia:\", es)\n",
    "print(\"Russia:\", ru)\n"
   ]
  },
  {
   "cell_type": "markdown",
   "metadata": {},
   "source": [
    "\n",
    "We are given a list of countries:\n",
    "\n",
    "```python\n",
    "\n",
    "names = ['Finland', 'Sweden', 'Norway', 'Denmark', 'Iceland', 'Estonia', 'Russia']\n",
    "Now i need to:\n",
    "\n",
    "* Unpack the first five countries and store them in a variable called nordic_countries.\n",
    "* Store the last two countries, Estonia and Russia, in variables es and ru, respectively.\n",
    "\n",
    "Then unpack the names list into individual variables (fin, sw, nor, den, ice) for the first five countries, and *rest captures the remaining countries, which is a list containing ['Estonia', 'Russia'].\n",
    "\n",
    "and then unpack the rest list into es and ru to store the last two countries.\n",
    "Finally, we create the nordic_countries list and print the results.\n"
   ]
  }
 ],
 "metadata": {
  "kernelspec": {
   "display_name": "Arewa_Testing",
   "language": "python",
   "name": "python3"
  },
  "language_info": {
   "codemirror_mode": {
    "name": "ipython",
    "version": 3
   },
   "file_extension": ".py",
   "mimetype": "text/x-python",
   "name": "python",
   "nbconvert_exporter": "python",
   "pygments_lexer": "ipython3",
   "version": "3.10.15"
  }
 },
 "nbformat": 4,
 "nbformat_minor": 2
}
