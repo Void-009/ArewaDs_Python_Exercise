{
 "cells": [
  {
   "cell_type": "markdown",
   "metadata": {},
   "source": [
    "# Exercises: Module 9"
   ]
  },
  {
   "cell_type": "markdown",
   "metadata": {},
   "source": [
    "## Exercises: Level 1"
   ]
  },
  {
   "cell_type": "markdown",
   "metadata": {},
   "source": [
    "### Question 1:\n",
    "Declare a function add_two_numbers. It takes two parameters and it returns a sum."
   ]
  },
  {
   "cell_type": "code",
   "execution_count": null,
   "metadata": {},
   "outputs": [],
   "source": [
    "# The Function declaration\n",
    "def add_two_numbers(a, b):\n",
    "   \n",
    "    return a + b\n",
    "\n",
    "# Calling the Function and Printing the result\n",
    "result = add_two_numbers(5, 5)\n",
    "print(result)  # Output: 8\n"
   ]
  },
  {
   "cell_type": "markdown",
   "metadata": {},
   "source": [
    "### Question 2:\n",
    "Area of a circle is calculated as follows: area = π x r x r. Write a function that calculates area_of_circle."
   ]
  },
  {
   "cell_type": "code",
   "execution_count": null,
   "metadata": {},
   "outputs": [],
   "source": [
    "# Importing the math library to get the value of Pi automatic\n",
    "import math\n",
    "\n",
    "def area_of_circle(radius): # declaring the function\n",
    "   \n",
    "    if radius < 0:\n",
    "        raise ValueError(\"Radius cannot be negative.\")\n",
    "    return math.pi * radius * radius\n",
    "# this ensure the correct value was supply to the program and catch any error and prevent the program from crashing\n",
    "\n",
    "# this feed the program with the input data\n",
    "radius = 12\n",
    "area = area_of_circle(radius)\n",
    "print(f\"The area of a circle with radius {radius} is {area:.2f}\")\n",
    "# this get the value supply to the program{radius} and this {area:.2f} omit the number after the point to two decimal "
   ]
  },
  {
   "cell_type": "markdown",
   "metadata": {},
   "source": [
    "### Question 3:\n",
    "Write a function called add_all_nums which takes arbitrary number of arguments and sums all the arguments. Check if all the list items are number types. If not do give a reasonable feedback."
   ]
  },
  {
   "cell_type": "code",
   "execution_count": null,
   "metadata": {},
   "outputs": [],
   "source": [
    "\"\"\"\n",
    "    Sums all the numeric arguments provided.\n",
    "\n",
    "    Parameters:\n",
    "    *args: Arbitrary number of arguments.\n",
    "\n",
    "    Returns:\n",
    "    float: The sum of all numeric arguments.\n",
    "\n",
    "    Raises:\n",
    "    ValueError: If any argument is not a number.\n",
    "    \"\"\"\n",
    "\n",
    "def add_all_nums(*args): # if you didnt yet know the length of your variable you can used *args to make there holder dynamic\n",
    "    \n",
    "    if not all(isinstance(arg, (int, float)) for arg in args): # this check the inputed value\n",
    "        raise ValueError(\" Ugh! Ugh!! Ugh!!! \\nSorry Please but all arguments must be numbers (int or float).\\n Correct Your Input\")\n",
    "    return sum(args)\n",
    "\n",
    "try:\n",
    "   \n",
    "    result = add_all_nums(1, 2.5, 3, 4)\n",
    "    print(f\"The sum is: {result}\")  \n",
    "\n",
    "    result = add_all_nums(1, \"two\", 3)\n",
    "    print(f\"The sum is: {result}\")\n",
    "except ValueError as e:\n",
    "    print(e)\n"
   ]
  },
  {
   "cell_type": "markdown",
   "metadata": {},
   "source": [
    "### Question 4:\n",
    "Temperature in °C can be converted to °F using this formula: °F = (°C x 9/5) + 32. Write a function which converts °C to °F, convert_celsius_to-fahrenheit."
   ]
  },
  {
   "cell_type": "code",
   "execution_count": null,
   "metadata": {},
   "outputs": [],
   "source": [
    "\"\"\"\n",
    "    Converts a temperature from Celsius to Fahrenheit.\n",
    "\n",
    "    Parameters:\n",
    "    celsius (float): The temperature in Celsius.\n",
    "\n",
    "    Returns:\n",
    "    float: The temperature in Fahrenheit.\n",
    "\"\"\"\n",
    "def convert_celsius_to_fahrenheit(celsius):\n",
    "   \n",
    "    return (celsius * 9 / 5) + 32\n",
    "\n",
    "\n",
    "# input to the function\n",
    "temp_cel = 30\n",
    "temp_fah = convert_celsius_to_fahrenheit(temp_cel)\n",
    "print(f\"{temp_cel}°C is equal to {temp_fah}°F\")\n"
   ]
  },
  {
   "cell_type": "markdown",
   "metadata": {},
   "source": [
    "### Question 5:\n",
    "Write a function called check-season, it takes a month parameter and returns the season: Autumn, Winter, Spring or Summer."
   ]
  },
  {
   "cell_type": "code",
   "execution_count": null,
   "metadata": {},
   "outputs": [],
   "source": [
    "\"\"\"\n",
    "    Determines the season based on the given month.\n",
    "\n",
    "    Parameters:\n",
    "    month (str): The name of the month.\n",
    "\n",
    "    Returns:\n",
    "    str: The season corresponding to the month.\n",
    "\"\"\"\n",
    "\n",
    "def check_season(month):\n",
    "    \n",
    "    month = month.strip().lower()  # Normalize the input for comparison\n",
    "    \n",
    "    if month in ['december', 'january', 'february']:\n",
    "        return \"Winter\"\n",
    "    elif month in ['march', 'april', 'may']:\n",
    "        return \"Spring\"\n",
    "    elif month in ['june', 'july', 'august']:\n",
    "        return \"Summer\"\n",
    "    elif month in ['september', 'october', 'november']:\n",
    "        return \"Autumn\"\n",
    "    else:\n",
    "        return \"Invalid month name. Please provide a valid month name.\"\n",
    "\n",
    "\n",
    "print(check_season(\"March\"))  \n",
    "\n",
    "print(check_season(\"july\"))  \n",
    "\n",
    "print(check_season(\"xyz\"))  "
   ]
  },
  {
   "cell_type": "markdown",
   "metadata": {},
   "source": [
    "### Question 6:\n",
    "Write a function called calculate_slope which return the slope of a linear equation"
   ]
  },
  {
   "cell_type": "code",
   "execution_count": null,
   "metadata": {},
   "outputs": [],
   "source": [
    "\"\"\"\n",
    "    Calculates the slope of a line given two points on the line.\n",
    "\n",
    "    Parameters:\n",
    "    x1, y1 (float): Coordinates of the first point.\n",
    "    x2, y2 (float): Coordinates of the second point.\n",
    "\n",
    "    Returns:\n",
    "    float: The slope of the line.\n",
    "\n",
    "    Raises:\n",
    "    ValueError: If the two points have the same x-coordinate (vertical line).\n",
    "\"\"\"\n",
    "def calculate_slope(x1, y1, x2, y2):\n",
    "\n",
    "    if x1 == x2:\n",
    "        raise ValueError(\"The slope is undefined for vertical lines (x1 == x2).\")\n",
    "    return (y2 - y1) / (x2 - x1)\n",
    "\n",
    "try:\n",
    "    # Example with a valid slope\n",
    "    slope = calculate_slope(1, 2, 3, 4)\n",
    "    print(f\"The slope of the line is: {slope}\")  \n",
    "\n",
    "    # Example with a vertical line\n",
    "    slope = calculate_slope(2, 3, 2, 6)\n",
    "    print(f\"The slope of the line is: {slope}\")\n",
    "except ValueError as e:\n",
    "    print(e)  \n",
    "\n"
   ]
  },
  {
   "cell_type": "markdown",
   "metadata": {},
   "source": [
    "### Question 7:\n",
    "Quadratic equation is calculated as follows: ax² + bx + c = 0. Write a function which calculates solution set of a quadratic equation, solve_quadratic_eqn."
   ]
  },
  {
   "cell_type": "code",
   "execution_count": null,
   "metadata": {},
   "outputs": [],
   "source": [
    "import cmath\n",
    "\n",
    "def solve_quadratic_eqn(a, b, c):\n",
    "    \n",
    "    if a == 0:\n",
    "        raise ValueError(\"Coefficient 'a' cannot be zero for a quadratic equation.\")\n",
    "    \n",
    "    # Calculate the discriminant\n",
    "    discriminant = cmath.sqrt(b**2 - 4*a*c)\n",
    "    \n",
    "    # Calculate the two solutions\n",
    "    root1 = (-b + discriminant) / (2 * a)\n",
    "    root2 = (-b - discriminant) / (2 * a)\n",
    "    \n",
    "    return root1, root2\n",
    "\n",
    "try:\n",
    "    # Solve a quadratic equation: x² + 5x + 6 = 0\n",
    "    solutions = solve_quadratic_eqn(1, 5, 6)\n",
    "    print(f\"The solutions are: {solutions[0]} and {solutions[1]}\")\n",
    "    \n",
    "    # Solve a quadratic equation with complex roots: x² + 2x + 5 = 0\n",
    "    solutions = solve_quadratic_eqn(1, 2, 5)\n",
    "    print(f\"The solutions are: {solutions[0]} and {solutions[1]}\")\n",
    "except ValueError as e:\n",
    "    print(e)\n"
   ]
  },
  {
   "cell_type": "markdown",
   "metadata": {},
   "source": [
    "### Question 8:\n",
    "Declare a function named print_list. It takes a list as a parameter and it prints out each element of the list."
   ]
  },
  {
   "cell_type": "code",
   "execution_count": null,
   "metadata": {},
   "outputs": [],
   "source": [
    "def print_list(items):\n",
    "  \n",
    "    for item in items:\n",
    "        print(item)\n",
    "\n",
    "\n",
    "\n",
    "my_list = [1, \"apple\", 3.14, True]\n",
    "\n",
    "print_list(my_list)\n"
   ]
  },
  {
   "cell_type": "markdown",
   "metadata": {},
   "source": [
    "### Question 9:\n",
    "Declare a function named reverse_list. It takes an array as a parameter and it returns the reverse of the array (use loops).\n",
    "```python\n",
    "print(reverse_list([1, 2, 3, 4, 5]))\n",
    "# [5, 4, 3, 2, 1]\n",
    "print(reverse_list1([\"A\", \"B\", \"C\"]))\n",
    "# [\"C\", \"B\", \"A\"]"
   ]
  },
  {
   "cell_type": "code",
   "execution_count": null,
   "metadata": {},
   "outputs": [],
   "source": [
    "def reverse_list(arr):\n",
    "   \n",
    "    reversed_arr = []\n",
    "    for i in range(len(arr) - 1, -1, -1):\n",
    "        reversed_arr.append(arr[i])\n",
    "    return reversed_arr\n",
    "\n",
    "print(reverse_list([1, 2, 3, 4, 5]))\n",
    "\n",
    "\n",
    "print(reverse_list([\"A\", \"B\", \"C\"]))\n",
    "\n",
    "\"\"\"\"\n",
    "The for loop iterates through the indices of the input list arr in reverse order,\n",
    " starting from the last index (len(arr) - 1) and ending at the first index (0),\n",
    "   with a step of -1.\n",
    "Each element at the current index is appended to the new list reversed_arr,\n",
    " which is then returned.\n",
    "\"\"\"\""
   ]
  },
  {
   "cell_type": "markdown",
   "metadata": {},
   "source": [
    "### Question 10:\n",
    "Declare a function named capitalize_list_items. It takes a list as a parameter and it returns a capitalized list of items"
   ]
  },
  {
   "cell_type": "code",
   "execution_count": null,
   "metadata": {},
   "outputs": [],
   "source": [
    "def capitalize_list_items(items):\n",
    "    \"\"\"\n",
    "   The function uses a list comprehension to iterate \n",
    "   through the items in the input list.\n",
    "   \n",
    "The str.capitalize() method is applied to each item that is a string,\n",
    "ensuring non-string items are ignored.\n",
    "   \n",
    "    \"\"\"\n",
    "    return [item.capitalize() for item in items if isinstance(item, str)]\n",
    "\n",
    "print(capitalize_list_items([\"apple\", \"banana\", \"cherry\"]))\n",
    "\n",
    "\n",
    "print(capitalize_list_items([\"hello\", \"world\", 123]))\n",
    "\n"
   ]
  },
  {
   "cell_type": "markdown",
   "metadata": {},
   "source": [
    "### Question 11:\n",
    "Declare a function named add_item. It takes a list and an item parameters. It returns a list with the item added at the end.\n",
    "```python\n",
    "food_staff = ['Potato', 'Tomato', 'Mango', 'Milk']\n",
    "print(add_item(food_staff, 'Meat'))     # ['Potato', 'Tomato', 'Mango', 'Milk','Meat']\n",
    "numbers = [2, 3, 7, 9]\n",
    "print(add_item(numbers, 5))      [2, 3, 7, 9, 5]"
   ]
  },
  {
   "cell_type": "code",
   "execution_count": null,
   "metadata": {},
   "outputs": [],
   "source": [
    "def add_item(lst, item):\n",
    "   \n",
    "    lst.append(item)\n",
    "    return lst\n",
    "\n",
    "food_staff = ['Potato', 'Tomato', 'Mango', 'Milk']\n",
    "print(food_staff)\n",
    "print(add_item(food_staff, 'Meat'))\n",
    "\n",
    "\n",
    "numbers = [2, 3, 7, 9]\n",
    "print(numbers)\n",
    "print(add_item(numbers, 5))\n",
    "\n"
   ]
  },
  {
   "cell_type": "markdown",
   "metadata": {},
   "source": [
    "### Question 12:\n",
    "Declare a function named remove_item. It takes a list and an item parameters. It returns a list with the item removed from it.\n",
    "```python\n",
    "food_staff = ['Potato', 'Tomato', 'Mango', 'Milk']\n",
    "print(remove_item(food_staff, 'Mango'))  # ['Potato', 'Tomato', 'Milk'];\n",
    "numbers = [2, 3, 7, 9]\n",
    "print(remove_item(numbers, 3))  # [2, 7, 9]"
   ]
  },
  {
   "cell_type": "code",
   "execution_count": null,
   "metadata": {},
   "outputs": [],
   "source": [
    "def remove_item(lst, item):\n",
    "    \n",
    "    if item in lst:\n",
    "        lst.remove(item)\n",
    "    return lst\n",
    "\n",
    "food_staff = ['Potato', 'Tomato', 'Mango', 'Milk']\n",
    "\n",
    "print(food_staff)\n",
    "print(remove_item(food_staff, 'Mango'))\n",
    "\n",
    "\n",
    "numbers = [2, 3, 7, 9]\n",
    "print(numbers)\n",
    "print(remove_item(numbers, 3))\n",
    "\n"
   ]
  },
  {
   "cell_type": "markdown",
   "metadata": {},
   "source": [
    "### Question 13:\n",
    "Declare a function named sum_of_numbers. It takes a number parameter and it adds all the numbers in that range.\n",
    "```python\n",
    "print(sum_of_numbers(5))  # 15\n",
    "print(sum_of_numbers(10)) # 55\n",
    "print(sum_of_numbers(100)) # 5050"
   ]
  },
  {
   "cell_type": "code",
   "execution_count": null,
   "metadata": {},
   "outputs": [],
   "source": [
    "def sum_of_numbers(n):\n",
    "   \n",
    "    return sum(range(1, n + 1))\n",
    "\n",
    "print(sum_of_numbers(5))    \n",
    "print(sum_of_numbers(10))   \n",
    "print(sum_of_numbers(100))  \n"
   ]
  },
  {
   "cell_type": "markdown",
   "metadata": {},
   "source": [
    "### Question 14:\n",
    "Declare a function named sum_of_odds. It takes a number parameter and it adds all the odd numbers in that range."
   ]
  },
  {
   "cell_type": "code",
   "execution_count": null,
   "metadata": {},
   "outputs": [],
   "source": [
    "def sum_of_odds(n):\n",
    "   \n",
    "    return sum(i for i in range(1, n + 1) if i % 2 != 0)\n",
    "\n",
    "print(sum_of_odds(20))  \n",
    "\n",
    "print(sum_of_odds(57))  \n"
   ]
  },
  {
   "cell_type": "markdown",
   "metadata": {},
   "source": [
    "### Question 15:\n",
    "Declare a function named sum_of_even. It takes a number parameter and it adds all the even numbers in that - range."
   ]
  },
  {
   "cell_type": "code",
   "execution_count": null,
   "metadata": {},
   "outputs": [],
   "source": [
    "def sum_of_even(n):\n",
    "  \n",
    "    return sum(i for i in range(1, n + 1) if i % 2 == 0)\n",
    "\n",
    "print(sum_of_even(40))  \n",
    "print(sum_of_even(75))  \n"
   ]
  },
  {
   "cell_type": "markdown",
   "metadata": {},
   "source": [
    "## Exercises: Level 2"
   ]
  },
  {
   "cell_type": "markdown",
   "metadata": {},
   "source": [
    "### Question 1:\n",
    "Declare a function named evens_and_odds . It takes a positive integer as parameter and it counts number of evens and odds in the number.\n",
    "```python\n",
    "    print(evens_and_odds(100))\n",
    "    # The number of odds are 50.\n",
    "    # The number of evens are 51.\n"
   ]
  },
  {
   "cell_type": "code",
   "execution_count": null,
   "metadata": {},
   "outputs": [],
   "source": [
    "def evens_and_odds(n):\n",
    "    if n < 1:\n",
    "        return \"Please provide a positive integer.\"\n",
    "    \n",
    "    evens = 0\n",
    "    odds = 0\n",
    "\n",
    "    for i in range(1, n + 1):\n",
    "        if i % 2 == 0:\n",
    "            evens += 1\n",
    "        else:\n",
    "            odds += 1\n",
    "\n",
    "    return f\"The number of odds are {odds}. The number of evens are {evens}.\"\n",
    "\n",
    "# Example usage\n",
    "print(evens_and_odds(100))\n",
    "# The number of odds are 50.\n",
    "# The number of evens are 51.\n"
   ]
  },
  {
   "cell_type": "markdown",
   "metadata": {},
   "source": [
    "### Question 2:\n",
    "Call your function factorial, it takes a whole number as a parameter and it return a factorial of the number"
   ]
  },
  {
   "cell_type": "code",
   "execution_count": null,
   "metadata": {},
   "outputs": [],
   "source": [
    "def factorial(n):\n",
    "    if n < 0:\n",
    "        return \"Factorial is not defined for negative numbers.\"\n",
    "    elif n == 0:\n",
    "        return 1  # 0! is defined as 1\n",
    "    else:\n",
    "        result = 1\n",
    "        for i in range(1, n + 1):\n",
    "            result *= i\n",
    "        return result\n",
    "\n",
    "# Example usage\n",
    "print(factorial(5))  # 120\n",
    "print(factorial(0))  # 1\n",
    "print(factorial(-3)) # Factorial is not defined for negative numbers.\n"
   ]
  },
  {
   "cell_type": "markdown",
   "metadata": {},
   "source": [
    "### Question 3:\n",
    "Call your function is_empty, it takes a parameter and it checks if it is empty or not"
   ]
  },
  {
   "cell_type": "code",
   "execution_count": null,
   "metadata": {},
   "outputs": [],
   "source": [
    "def is_empty(param):\n",
    "    # Check if the parameter is None\n",
    "    if param is None:\n",
    "        return True\n",
    "    \n",
    "    # Check if the parameter is of a type that can be empty\n",
    "    if isinstance(param, (str, list, tuple, set, dict)):\n",
    "        return len(param) == 0\n",
    "    \n",
    "    # If it's not one of the above types, we can assume it's not empty\n",
    "    return False\n",
    "\n",
    "# Example usage\n",
    "print(is_empty(\"\"))            # True (empty string)\n",
    "print(is_empty(\"Hello\"))       # False (non-empty string)\n",
    "print(is_empty([]))            # True (empty list)\n",
    "print(is_empty([1, 2, 3]))     # False (non-empty list)\n",
    "print(is_empty(()))            # True (empty tuple)\n",
    "print(is_empty((1, 2, 3)))     # False (non-empty tuple)\n",
    "print(is_empty(set()))         # True (empty set)\n",
    "print(is_empty({}))            # True (empty dictionary)\n",
    "print(is_empty({'key': 'value'}))  # False (non-empty dictionary)\n",
    "print(is_empty(None))          # True (None)\n"
   ]
  },
  {
   "cell_type": "markdown",
   "metadata": {},
   "source": [
    "### Question 4:\n",
    "Write different functions which take lists. They should calculate_mean, calculate_median, calculate_mode, calculate_range, calculate_variance, calculate_std (standard deviation)."
   ]
  },
  {
   "cell_type": "code",
   "execution_count": null,
   "metadata": {},
   "outputs": [],
   "source": [
    "from collections import Counter\n",
    "import math\n",
    "\n",
    "def calculate_mean(numbers):\n",
    "    if not numbers:\n",
    "        return 0\n",
    "    return sum(numbers) / len(numbers)\n",
    "\n",
    "def calculate_median(numbers):\n",
    "    if not numbers:\n",
    "        return 0\n",
    "    sorted_numbers = sorted(numbers)\n",
    "    mid = len(sorted_numbers) // 2\n",
    "    if len(sorted_numbers) % 2 == 0:\n",
    "        return (sorted_numbers[mid - 1] + sorted_numbers[mid]) / 2\n",
    "    return sorted_numbers[mid]\n",
    "\n",
    "def calculate_mode(numbers):\n",
    "    if not numbers:\n",
    "        return None\n",
    "    frequency = Counter(numbers)\n",
    "    mode_data = frequency.most_common()\n",
    "    max_count = mode_data[0][1]\n",
    "    modes = [num for num, count in mode_data if count == max_count]\n",
    "    return modes if len(modes) > 1 else modes[0]\n",
    "\n",
    "def calculate_range(numbers):\n",
    "    if not numbers:\n",
    "        return 0\n",
    "    return max(numbers) - min(numbers)\n",
    "\n",
    "def calculate_variance(numbers):\n",
    "    if not numbers:\n",
    "        return 0\n",
    "    mean = calculate_mean(numbers)\n",
    "    return sum((x - mean) ** 2 for x in numbers) / len(numbers)\n",
    "\n",
    "def calculate_std(numbers):\n",
    "    if not numbers:\n",
    "        return 0\n",
    "    return math.sqrt(calculate_variance(numbers))\n",
    "\n",
    "# Example usage\n",
    "data = [1, 2, 2, 3, 4, 4, 4, 5, 6]\n",
    "\n",
    "print(\"Mean:\", calculate_mean(data))          # Mean: 3.4444444444444446\n",
    "print(\"Median:\", calculate_median(data))      # Median: 4\n",
    "print(\"Mode:\", calculate_mode(data))          # Mode: 4\n",
    "print(\"Range:\", calculate_range(data))        # Range: 5\n",
    "print(\"Variance:\", calculate_variance(data))  # Variance: 2.2222222222222223\n",
    "print(\"Standard Deviation:\", calculate_std(data))  # Standard Deviation: 1.4907119849998598\n"
   ]
  },
  {
   "cell_type": "markdown",
   "metadata": {},
   "source": [
    "## Exercises: Level 3"
   ]
  },
  {
   "cell_type": "markdown",
   "metadata": {},
   "source": [
    "### Question 1:\n",
    "Write a function called is_prime, which checks if a number is prime."
   ]
  },
  {
   "cell_type": "code",
   "execution_count": null,
   "metadata": {},
   "outputs": [],
   "source": [
    "def is_prime(n):\n",
    "  \n",
    "    if n <= 1:\n",
    "        return False  # Numbers less than or equal to 1 are not prime\n",
    "    for i in range(2, int(n ** 0.5) + 1):\n",
    "        if n % i == 0:\n",
    "            return False\n",
    "    return True\n",
    "\n",
    "print(is_prime(2))   \n",
    "print(is_prime(10))  \n",
    "print(is_prime(13))  \n",
    "print(is_prime(1))   \n"
   ]
  },
  {
   "cell_type": "markdown",
   "metadata": {},
   "source": [
    "### Question 2:\n",
    "Write a functions which checks if all items are unique in the list."
   ]
  },
  {
   "cell_type": "code",
   "execution_count": null,
   "metadata": {},
   "outputs": [],
   "source": [
    "def are_items_unique(lst):\n",
    "  \n",
    "    return len(lst) == len(set(lst))\n",
    "\n",
    "print(are_items_unique([1, 2, 3, 4, 5]))  \n",
    "print(are_items_unique([1, 2, 2, 4, 5]))  \n",
    "print(are_items_unique(['a', 'b', 'c']))  \n",
    "print(are_items_unique(['a', 'b', 'a'])) \n"
   ]
  },
  {
   "cell_type": "markdown",
   "metadata": {},
   "source": [
    "### Question 3:\n",
    "Write a function which checks if all the items of the list are of the same data type."
   ]
  },
  {
   "cell_type": "code",
   "execution_count": null,
   "metadata": {},
   "outputs": [],
   "source": [
    "def are_items_same_type(lst):\n",
    "    \"\"\"\n",
    "    Checks if all items in the list are of the same data type.\n",
    "\n",
    "    Parameters:\n",
    "    lst (list): The list to check.\n",
    "\n",
    "    Returns:\n",
    "    bool: True if all items are of the same type, False otherwise.\n",
    "    \"\"\"\n",
    "    if not lst:\n",
    "        return True  # An empty list has no conflicting types\n",
    "    first_type = type(lst[0])\n",
    "    return all(isinstance(item, first_type) for item in lst)\n",
    "\n",
    "\n",
    "print(are_items_same_type([1, 2, 3, 4]))       \n",
    "print(are_items_same_type(['a', 'b', 'c']))    \n",
    "print(are_items_same_type([1, 'a', 3.0]))      \n",
    "print(are_items_same_type([]))               \n"
   ]
  },
  {
   "cell_type": "markdown",
   "metadata": {},
   "source": [
    "### Question 4:\n",
    "Write a function which check if provided variable is a valid python variable."
   ]
  },
  {
   "cell_type": "code",
   "execution_count": null,
   "metadata": {},
   "outputs": [],
   "source": [
    "import keyword\n",
    "\n",
    "def is_valid_variable_name(var_name):\n",
    "  \n",
    "    if not isinstance(var_name, str):\n",
    "        return False  # Variable name must be a string\n",
    "    if not var_name.isidentifier():\n",
    "        return False  # Must be a valid identifier\n",
    "    if var_name in keyword.kwlist:\n",
    "        return False  # Must not be a keyword\n",
    "    return True\n",
    "\n",
    "print(is_valid_variable_name(\"my_var\"))        \n",
    "print(is_valid_variable_name(\"2nd_var\"))       \n",
    "print(is_valid_variable_name(\"valid_name\"))    \n",
    "print(is_valid_variable_name(\"class\"))         \n",
    "print(is_valid_variable_name(\"my-var\"))        \n",
    "print(is_valid_variable_name(\"\"))             \n"
   ]
  },
  {
   "cell_type": "markdown",
   "metadata": {},
   "source": [
    "### Question 5:\n",
    "Go to the data folder and access the countries-data.py file.\n",
    " * Create a function called the most_spoken_languages in the world. It should return 10 or 20 most spoken languages in the world in descending order\n",
    " * Create a function called the most_populated_countries. It should return 10 or 20 most populated countries in descending order."
   ]
  },
  {
   "cell_type": "code",
   "execution_count": null,
   "metadata": {},
   "outputs": [],
   "source": [
    "import sys\n",
    "import os\n",
    "\n",
    "# Add the parent directory to the system path\n",
    "sys.path.append(os.path.abspath(os.path.join('..')))\n",
    "\n",
    "# Import the entire countries_data module\n",
    "import data.countries_data as countries_data_module\n",
    "\n",
    "# Access the countries_data variable\n",
    "countries_data = countries_data_module.countries_data\n",
    "\n",
    "def most_spoken_languages(countries_data, top_n=10):\n",
    "    \"\"\"\n",
    "    Returns the most spoken languages in the world in descending order.\n",
    "    \"\"\"\n",
    "    language_count = {}\n",
    "    \n",
    "    for country in countries_data:\n",
    "        for language in country['languages']:\n",
    "            if language in language_count:\n",
    "                language_count[language] += 1\n",
    "            else:\n",
    "                language_count[language] = 1\n",
    "\n",
    "    sorted_languages = sorted(language_count.items(), key=lambda item: item[1], reverse=True)\n",
    "    \n",
    "    return sorted_languages[:top_n]\n",
    "\n",
    "def most_populated_countries(countries_data, top_n=10):\n",
    "    \"\"\"\n",
    "    Returns the most populated countries in the world in descending order.\n",
    "    \"\"\"\n",
    "    sorted_countries = sorted(countries_data, key=lambda x: x['population'], reverse=True)\n",
    "    return [(country['name'], country['population']) for country in sorted_countries[:top_n]]\n",
    "\n",
    "# Example usage\n",
    "languages = most_spoken_languages(countries_data)\n",
    "print(\"Most Spoken Languages:\\n\")\n",
    "for lang, count in languages:\n",
    "    print(f\"\\t{lang}: {count}\\n\")\n",
    "\n",
    "populated_countries = most_populated_countries(countries_data)\n",
    "print(\"\\nMost Populated Countries:\\n\")\n",
    "for country, population in populated_countries:\n",
    "    print(f\"\\t{country}: {population}\\n\")\n"
   ]
  },
  {
   "cell_type": "markdown",
   "metadata": {},
   "source": [
    "# List Comprehensions Exercises"
   ]
  },
  {
   "cell_type": "markdown",
   "metadata": {},
   "source": [
    "## Question 1:\n",
    "Filter only negative and zero in the list using list comprehension\n",
    "```plaintext\n",
    "numbers = [-4, -3, -2, -1, 0, 2, 4, 6]"
   ]
  },
  {
   "cell_type": "code",
   "execution_count": null,
   "metadata": {},
   "outputs": [],
   "source": [
    "numbers = [-4, -3, -2, -1, 0, 2, 4, 6]\n",
    "\n",
    "# Using list comprehension to filter negative numbers and zero\n",
    "negative_and_zero = [num for num in numbers if num <= 0]\n",
    "\n",
    "print(negative_and_zero)  # Output: [-4, -3, -2, -1, 0]\n"
   ]
  },
  {
   "cell_type": "markdown",
   "metadata": {},
   "source": [
    "## Question 2:\n",
    "Flatten the following list of lists of lists to a one dimensional list :\n",
    "```plaintext\n",
    "list_of_lists =[[[1, 2, 3]], [[4, 5, 6]], [[7, 8, 9]]]\n",
    "\n",
    "output\n",
    "[1, 2, 3, 4, 5, 6, 7, 8, 9]"
   ]
  },
  {
   "cell_type": "code",
   "execution_count": null,
   "metadata": {},
   "outputs": [],
   "source": [
    "list_of_lists = [[[1, 2, 3]], [[4, 5, 6]], [[7, 8, 9]]]\n",
    "\n",
    "# Flattening the list using list comprehension\n",
    "flattened_list = [num for sublist in list_of_lists for inner_list in sublist for num in inner_list]\n",
    "\n",
    "print(flattened_list)  \n"
   ]
  },
  {
   "cell_type": "markdown",
   "metadata": {},
   "source": [
    "## Question 3:\n",
    "Using list comprehension create the following list of tuples:\n",
    "```plaintext\n",
    "[(0, 1, 0, 0, 0, 0, 0),\n",
    "(1, 1, 1, 1, 1, 1, 1),\n",
    "(2, 1, 2, 4, 8, 16, 32),\n",
    "(3, 1, 3, 9, 27, 81, 243),\n",
    "(4, 1, 4, 16, 64, 256, 1024),\n",
    "(5, 1, 5, 25, 125, 625, 3125),\n",
    "(6, 1, 6, 36, 216, 1296, 7776),\n",
    "(7, 1, 7, 49, 343, 2401, 16807),\n",
    "(8, 1, 8, 64, 512, 4096, 32768),\n",
    "(9, 1, 9, 81, 729, 6561, 59049),\n",
    "(10, 1, 10, 100, 1000, 10000, 100000)]"
   ]
  },
  {
   "cell_type": "code",
   "execution_count": null,
   "metadata": {},
   "outputs": [],
   "source": [
    "# Using list comprehension to generate the list of tuples\n",
    "result = [(i, 1, i, i**2, i**3, i**4, i**5) for i in range(11)]\n",
    "\n",
    "# Printing the result\n",
    "for row in result:\n",
    "    print(row)\n"
   ]
  },
  {
   "cell_type": "markdown",
   "metadata": {},
   "source": [
    "## Question 4:\n",
    "Flatten the following list to a new list:\n",
    "```plaintext\n",
    "countries = [[('Finland', 'Helsinki')], [('Sweden', 'Stockholm')], [('Norway', 'Oslo')]]\n",
    "output:\n",
    "[['FINLAND','FIN', 'HELSINKI'], ['SWEDEN', 'SWE', 'STOCKHOLM'], ['NORWAY', 'NOR', 'OSLO']]"
   ]
  },
  {
   "cell_type": "code",
   "execution_count": 1,
   "metadata": {},
   "outputs": [
    {
     "name": "stdout",
     "output_type": "stream",
     "text": [
      "[['FINLAND', 'FIN', 'HELSINKI'], ['SWEDEN', 'SWE', 'STOCKHOLM'], ['NORWAY', 'NOR', 'OSLO']]\n"
     ]
    }
   ],
   "source": [
    "countries = [[('Finland', 'Helsinki')], [('Sweden', 'Stockholm')], [('Norway', 'Oslo')]]\n",
    "\n",
    "# Flatten and transform using list comprehension\n",
    "output = [[country.upper(), country[:3].upper(), capital.upper()] \n",
    "          for sublist in countries \n",
    "          for country, capital in sublist]\n",
    "\n",
    "\n",
    "print(output)\n"
   ]
  },
  {
   "cell_type": "markdown",
   "metadata": {},
   "source": [
    "## Question 5:\n",
    "Change the following list to a list of dictionaries:\n",
    "```plaintext\n",
    "countries = [[('Finland', 'Helsinki')], [('Sweden', 'Stockholm')], [('Norway', 'Oslo')]]\n",
    "output:\n",
    "[{'country': 'FINLAND', 'city': 'HELSINKI'},\n",
    "{'country': 'SWEDEN', 'city': 'STOCKHOLM'},\n",
    "{'country': 'NORWAY', 'city': 'OSLO'}]"
   ]
  },
  {
   "cell_type": "code",
   "execution_count": 2,
   "metadata": {},
   "outputs": [
    {
     "name": "stdout",
     "output_type": "stream",
     "text": [
      "[{'country': 'FINLAND', 'city': 'HELSINKI'}, {'country': 'SWEDEN', 'city': 'STOCKHOLM'}, {'country': 'NORWAY', 'city': 'OSLO'}]\n"
     ]
    }
   ],
   "source": [
    "countries = [[('Finland', 'Helsinki')], [('Sweden', 'Stockholm')], [('Norway', 'Oslo')]]\n",
    "\n",
    "# Transform to a list of dictionaries\n",
    "output = [{'country': country.upper(), 'city': capital.upper()} \n",
    "          for sublist in countries \n",
    "          for country, capital in sublist]\n",
    "\n",
    "print(output)\n"
   ]
  },
  {
   "cell_type": "markdown",
   "metadata": {},
   "source": [
    "## Question 6:\n",
    "Change the following list of lists to a list of concatenated strings:\n",
    "```plaintext\n",
    "names = [[('Asabeneh', 'Yetayeh')], [('David', 'Smith')], [('Donald', 'Trump')], [('Bill', 'Gates')]]\n",
    "output\n",
    "['Asabeneh Yetaeyeh', 'David Smith', 'Donald Trump', 'Bill Gates']"
   ]
  },
  {
   "cell_type": "code",
   "execution_count": null,
   "metadata": {},
   "outputs": [],
   "source": [
    "names = [[('Asabeneh', 'Yetayeh')], [('David', 'Smith')], [('Donald', 'Trump')], [('Bill', 'Gates')]]\n",
    "\n",
    "# Transform to a list of concatenated strings\n",
    "output = [' '.join(name) for sublist in names for name in sublist]\n",
    "\n",
    "print(output)\n"
   ]
  },
  {
   "cell_type": "markdown",
   "metadata": {},
   "source": [
    "## Question 7:\n",
    "Write a lambda function which can solve a slope or y-intercept of linear functions."
   ]
  },
  {
   "cell_type": "code",
   "execution_count": null,
   "metadata": {},
   "outputs": [],
   "source": [
    "# Lambda function to calculate slope (m) given two points (x1, y1) and (x2, y2)\n",
    "slope = lambda x1, y1, x2, y2: (y2 - y1) / (x2 - x1) if x2 != x1 else float('inf')\n",
    "\n",
    "# Lambda function to calculate y-intercept (b) given slope (m) and one point (x1, y1)\n",
    "y_intercept = lambda m, x1, y1: y1 - m * x1\n",
    "\n",
    "# Example usage\n",
    "x1, y1 = 1, 2\n",
    "x2, y2 = 3, 6\n",
    "\n",
    "# Calculate slope\n",
    "m = slope(x1, y1, x2, y2)\n",
    "print(f\"Slope: {m}\")\n",
    "\n",
    "# Calculate y-intercept\n",
    "b = y_intercept(m, x1, y1)\n",
    "print(f\"Y-Intercept: {b}\")\n"
   ]
  }
 ],
 "metadata": {
  "kernelspec": {
   "display_name": "base",
   "language": "python",
   "name": "python3"
  },
  "language_info": {
   "codemirror_mode": {
    "name": "ipython",
    "version": 3
   },
   "file_extension": ".py",
   "mimetype": "text/x-python",
   "name": "python",
   "nbconvert_exporter": "python",
   "pygments_lexer": "ipython3",
   "version": "3.12.2"
  }
 },
 "nbformat": 4,
 "nbformat_minor": 2
}
