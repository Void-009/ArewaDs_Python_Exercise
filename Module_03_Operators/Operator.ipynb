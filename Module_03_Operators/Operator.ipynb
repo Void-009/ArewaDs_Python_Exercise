{
 "cells": [
  {
   "cell_type": "markdown",
   "metadata": {},
   "source": [
    "# Module 3 Exercises "
   ]
  },
  {
   "cell_type": "markdown",
   "metadata": {},
   "source": [
    "## Questions 1\n",
    "Declare your age as integer variable"
   ]
  },
  {
   "cell_type": "code",
   "execution_count": 1,
   "metadata": {},
   "outputs": [],
   "source": [
    "my_age = 90"
   ]
  },
  {
   "cell_type": "markdown",
   "metadata": {},
   "source": [
    "## Questions 2\n",
    "Declare your height as a float variable"
   ]
  },
  {
   "cell_type": "code",
   "execution_count": null,
   "metadata": {},
   "outputs": [],
   "source": [
    "my_height = 4.5"
   ]
  },
  {
   "cell_type": "markdown",
   "metadata": {},
   "source": [
    "## Questions 3\n",
    "Declare a variable that store a complex number\n",
    "\n"
   ]
  },
  {
   "cell_type": "code",
   "execution_count": null,
   "metadata": {},
   "outputs": [],
   "source": [
    "imaginary_num = 2 - 6j"
   ]
  },
  {
   "cell_type": "markdown",
   "metadata": {},
   "source": [
    "## Questions 4\n",
    "Write a script that prompts the user to enter base and height of the triangle and calculate an area of this triangle (area = 0.5 x b x h)."
   ]
  },
  {
   "cell_type": "code",
   "execution_count": 19,
   "metadata": {},
   "outputs": [
    {
     "name": "stdout",
     "output_type": "stream",
     "text": [
      "The Area Of Triangle with  20 Height and  10 Base Is :  100.0\n"
     ]
    }
   ],
   "source": [
    "tri_height = int(input(\"Enter The Height of The Triangle : \\n\"))\n",
    "\n",
    "tri_base = int(input(\"Enter the Base Of The triangle : \\n\" ))\n",
    "                     \n",
    "area = 0.5 * tri_base * tri_height\n",
    "\n",
    "\n",
    "\n",
    "print(\"The Area Of Triangle with \", tri_height ,\"Height and \" , tri_base ,\"Base Is : \" ,area)"
   ]
  },
  {
   "cell_type": "markdown",
   "metadata": {},
   "source": [
    "## Questions 5\n",
    "Write a script that prompts the user to enter side a, side b, and side c of the triangle. Calculate the perimeter of the triangle (perimeter = a + b + c)."
   ]
  },
  {
   "cell_type": "code",
   "execution_count": 14,
   "metadata": {},
   "outputs": [
    {
     "name": "stdout",
     "output_type": "stream",
     "text": [
      "('The perimeter of the triangle is :', 12)\n"
     ]
    }
   ],
   "source": [
    "side_a = int(input(\"Enter Side A :\"))\n",
    "side_b = int(input(\"Enter Side B :\"))\n",
    "Side_c = int(input(\"Enter Side C :\"))\n",
    "\n",
    "tri_perimeter = side_a + side_b +Side_c\n",
    "\n",
    "\n",
    "print(\"The perimeter of the triangle is :\", tri_perimeter)"
   ]
  },
  {
   "cell_type": "markdown",
   "metadata": {},
   "source": [
    "## Questions 6\n",
    "Get length and width of a rectangle using prompt. Calculate its area (area = length x width) and perimeter (perimeter = 2 x (length + width))"
   ]
  },
  {
   "cell_type": "code",
   "execution_count": 18,
   "metadata": {},
   "outputs": [
    {
     "name": "stdout",
     "output_type": "stream",
     "text": [
      "('The Area of Rectangle with ', 3, ' length and ', 4, ' Width is :', 12)\n",
      "('The Perimeter of Rectangle with ', 3, ' length and ', 4, ' Width is :', 14)\n"
     ]
    }
   ],
   "source": [
    "rect_length = int(input(\"Enter The Height of The Rectangle : \"))\n",
    "\n",
    "rect_width = int(input(\"Enter the Base Of The Rectangle : \" ))\n",
    "\n",
    "area_rect = rect_length * rect_width\n",
    "\n",
    "rect_perimeter = 2 * (rect_length + rect_width)\n",
    "\n",
    "print(\"The Area of Rectangle with \" ,rect_length, \" length and \", rect_width ,' Width is :',area_rect)\n",
    "\n",
    "\n",
    "print(\"The Perimeter of Rectangle with \", rect_length ,\" length and \", rect_width ,\" Width is :\",rect_perimeter)"
   ]
  },
  {
   "cell_type": "markdown",
   "metadata": {},
   "source": [
    "## Questions 7\n",
    "Get radius of a circle using prompt. Calculate the area (area = pi x r x r) and circumference (c = 2 x pi x r) where pi = 3.14."
   ]
  },
  {
   "cell_type": "code",
   "execution_count": 21,
   "metadata": {},
   "outputs": [
    {
     "name": "stdout",
     "output_type": "stream",
     "text": [
      "The Radius Of the Circle Is :  1256.6370614359173\n",
      "The circumference Of The Circle Is :  125.66370614359172\n"
     ]
    }
   ],
   "source": [
    "import math\n",
    "\n",
    "\n",
    "radius = float(input(\"Enter The Radius : \"))\n",
    "\n",
    "circle_area = math.pi * (radius * radius)\n",
    "\n",
    "circle_circum = 2 * math.pi * radius\n",
    "\n",
    "print(\"The Radius Of the Circle Is : \" ,circle_area)\n",
    "print(\"The circumference Of The Circle Is : \" ,circle_circum)\n"
   ]
  },
  {
   "cell_type": "markdown",
   "metadata": {},
   "source": [
    "## Questions 8\n",
    "Calculate the slope, x-intercept and y-intercept of y = 2x -2"
   ]
  },
  {
   "cell_type": "code",
   "execution_count": 22,
   "metadata": {},
   "outputs": [
    {
     "name": "stdout",
     "output_type": "stream",
     "text": [
      "Slope (m): 2\n",
      "Y-Intercept (c): -2 (Point: (0, -2))\n",
      "X-Intercept: 1 (Point: (1, 0))\n"
     ]
    }
   ],
   "source": [
    "\n",
    "    # general formula y = mx + c\n",
    "    # Given equation: y = 2x - 2\n",
    "\n",
    "slope = 2  # Coefficient of x\n",
    "   \n",
    "\"\"\"\n",
    "    To calculate y_intercept, set y = 0 \n",
    "         y = 2 * 0 - 2\n",
    "         y = -2\n",
    "\"\"\"\n",
    "\n",
    "y_intercept = -2  # Constant term\n",
    "\"\"\"\n",
    "To calculate x-intercept, set y = 0\n",
    "    0 = 2x - 2 \n",
    "    2x = 2 \n",
    "     x = 1\n",
    "\"\"\"\n",
    "x_intercept = 1\n",
    "\n",
    "print(f\"Slope (m): {slope}\")\n",
    "print(f\"Y-Intercept (c): {y_intercept} (Point: (0, {y_intercept}))\")\n",
    "print(f\"X-Intercept: {x_intercept} (Point: ({x_intercept}, 0))\")\n",
    "\n",
    "\n"
   ]
  },
  {
   "cell_type": "markdown",
   "metadata": {},
   "source": [
    "## Questions 9\n",
    "Slope is (m = y2-y1/x2-x1). Find the slope and Euclidean distance between point (2, 2) and point (6,10)"
   ]
  },
  {
   "cell_type": "code",
   "execution_count": 33,
   "metadata": {},
   "outputs": [
    {
     "name": "stdout",
     "output_type": "stream",
     "text": [
      "Slope (m): 2\n",
      "Euclidean Distance : 8.94\n"
     ]
    }
   ],
   "source": [
    "import math\n",
    "\"\"\"\n",
    "The formula for the slope is:\n",
    " m = (y2 -y1) / (x2 -x1)\n",
    "\"\"\"\n",
    "\n",
    "\n",
    "\n",
    "point1 = [2,2]\n",
    "point2 = [6,10]\n",
    "m = (( point1[1] - point2[1]) / (point1[0] - point2[0]))\n",
    "\n",
    "\"\"\"\n",
    "The formula for the Euclidean distance is:\n",
    " d = sqrt((y2 -y1) / (x2 -x1))\n",
    "\"\"\"\n",
    "\n",
    "d = math.sqrt(((point1[0] - point2[0])** 2) + (( point1[1] - point2[1]) ** 2))\n",
    "\n",
    "print(f\"Slope (m): {m:.0f}\")\n",
    "\n",
    "print(f\"Euclidean Distance : {d:.2f}\")\n"
   ]
  },
  {
   "cell_type": "markdown",
   "metadata": {},
   "source": [
    "## Questions 10\n",
    "Compare the slopes in tasks 8 and 9."
   ]
  },
  {
   "cell_type": "code",
   "execution_count": 34,
   "metadata": {},
   "outputs": [
    {
     "name": "stdout",
     "output_type": "stream",
     "text": [
      "The slopes are equal.\n"
     ]
    }
   ],
   "source": [
    "if slope == m :\n",
    " print(\"The slopes are equal.\")\n",
    "else:\n",
    " print(\"The slopes are not equal.\")\n"
   ]
  },
  {
   "cell_type": "markdown",
   "metadata": {},
   "source": [
    "## Questions 11\n",
    "Calculate the value of y (y = x^2 + 6x + 9). Try to use different x values and figure out at what x value y is going to be 0."
   ]
  },
  {
   "cell_type": "code",
   "execution_count": 38,
   "metadata": {},
   "outputs": [
    {
     "name": "stdout",
     "output_type": "stream",
     "text": [
      "0\n"
     ]
    }
   ],
   "source": [
    "\"\"\"\n",
    "The equation (y = x^2 + 6x + 9) is a quadratic equation. It can be factored:\n",
    "          y = (x + 3)^2\n",
    "\n",
    " From this, we see that y=0 when:\n",
    " x + 3 = 0 \n",
    " x = -3\n",
    "\n",
    "\"\"\"\n",
    "x = -3\n",
    "y = x**2 + 6*x + 9\n",
    "print(y)\n"
   ]
  },
  {
   "cell_type": "markdown",
   "metadata": {},
   "source": [
    "## Questions 12\n",
    "Find the length of 'python' and 'dragon' and make a falsy comparison statement."
   ]
  },
  {
   "cell_type": "code",
   "execution_count": 46,
   "metadata": {},
   "outputs": [
    {
     "name": "stdout",
     "output_type": "stream",
     "text": [
      "The length of Python String :6\n",
      "The length of Dragon String :6\n",
      "the strings are less than the first one\n",
      "the strings are less than the first one\n",
      "strings are equal\n"
     ]
    }
   ],
   "source": [
    "string_a = len(\"python\") \n",
    "\n",
    "string_b  = len(\"dragon\")\n",
    "\n",
    "print(f\"The length of Python String :{string_a}\")\n",
    "\n",
    "print(f\"The length of Dragon String :{string_b}\")\n",
    "\n",
    "string_a > string_b\n",
    "print(\"the strings are greater than the first one\")\n",
    "string_a != string_b\n",
    "print(\"the strings are less than the first one\")\n",
    "if string_a < string_b :\n",
    " print(\"the strings are less than the first one\")\n",
    "else :\n",
    "   print(\"strings are equal\")\n"
   ]
  }
 ],
 "metadata": {
  "kernelspec": {
   "display_name": "Arewa_testing",
   "language": "python",
   "name": "python3"
  },
  "language_info": {
   "codemirror_mode": {
    "name": "ipython",
    "version": 3
   },
   "file_extension": ".py",
   "mimetype": "text/x-python",
   "name": "python",
   "nbconvert_exporter": "python",
   "pygments_lexer": "ipython3",
   "version": "3.10.15"
  }
 },
 "nbformat": 4,
 "nbformat_minor": 2
}
