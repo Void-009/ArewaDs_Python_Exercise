{
 "cells": [
  {
   "cell_type": "markdown",
   "metadata": {},
   "source": [
    "# Exercises: Level 1\n"
   ]
  },
  {
   "cell_type": "markdown",
   "metadata": {},
   "source": [
    "## Question 1:\n",
    "What is the most frequent word in the following paragraph?\n",
    "```python\n",
    "    paragraph = 'I love teaching. If you do not love teaching what else can you love. I love Python if you do not love something which can give you all the capabilities to develop an application what else can you love."
   ]
  },
  {
   "cell_type": "markdown",
   "metadata": {},
   "source": [
    "    [\n",
    "    (6, 'love'),\n",
    "    (5, 'you'),\n",
    "    (3, 'can'),\n",
    "    (2, 'what'),\n",
    "    (2, 'teaching'),\n",
    "    (2, 'not'),\n",
    "    (2, 'else'),\n",
    "    (2, 'do'),\n",
    "    (2, 'I'),\n",
    "    (1, 'which'),\n",
    "    (1, 'to'),\n",
    "    (1, 'the'),\n",
    "    (1, 'something'),\n",
    "    (1, 'if'),\n",
    "    (1, 'give'),\n",
    "    (1, 'develop'),\n",
    "    (1, 'capabilities'),\n",
    "    (1, 'application'),\n",
    "    (1, 'an'),\n",
    "    (1, 'all'),\n",
    "    (1, 'Python'),\n",
    "    (1, 'If')\n",
    "    ]"
   ]
  },
  {
   "cell_type": "code",
   "execution_count": null,
   "metadata": {},
   "outputs": [],
   "source": [
    "paragraph = 'I love teaching. If you do not love teaching what else can you love. I love Python if you do not love something which can give you all the capabilities to develop an application what else can you love.'\n",
    "\n",
    "# List of word frequency tuples\n",
    "word_counts = [\n",
    "    (6, 'love'),\n",
    "    (5, 'you'),\n",
    "    (3, 'can'),\n",
    "    (2, 'what'),\n",
    "    (2, 'teaching'),\n",
    "    (2, 'not'),\n",
    "    (2, 'else'),\n",
    "    (2, 'do'),\n",
    "    (2, 'I'),\n",
    "    (1, 'which'),\n",
    "    (1, 'to'),\n",
    "    (1, 'the'),\n",
    "    (1, 'something'),\n",
    "    (1, 'if'),\n",
    "    (1, 'give'),\n",
    "    (1, 'develop'),\n",
    "    (1, 'capabilities'),\n",
    "    (1, 'application'),\n",
    "    (1, 'an'),\n",
    "    (1, 'all'),\n",
    "    (1, 'Python'),\n",
    "    (1, 'If')\n",
    "]\n",
    "\n",
    "# Find the most frequent word\n",
    "most_frequent_word = max(word_counts, key=lambda x: x[0])\n",
    "print(f\"The most frequent word is: '{most_frequent_word[1]}' with {most_frequent_word[0]} occurrences.\")\n"
   ]
  },
  {
   "cell_type": "markdown",
   "metadata": {},
   "source": [
    "## Question 2:\n",
    "The position of some particles on the horizontal x-axis are -12, -4, -3 and -1 in the negative direction, 0 at origin, 4 and 8 in the positive direction. Extract these numbers from this whole text and find the distance between the two furthest particles."
   ]
  },
  {
   "cell_type": "markdown",
   "metadata": {},
   "source": [
    "```python\n",
    "points = ['-12', '-4', '-3', '-1', '0', '4', '8']\n",
    "sorted_points =  [-12, -4, -3, -1, -1, 0, 2, 4, 8]\n",
    "distance = 8 -(-12) # 20"
   ]
  },
  {
   "cell_type": "code",
   "execution_count": 3,
   "metadata": {},
   "outputs": [
    {
     "name": "stdout",
     "output_type": "stream",
     "text": [
      "The distance between the two furthest particles is: 20\n"
     ]
    }
   ],
   "source": [
    "# List of positions (extracted from the text)\n",
    "points = ['-12', '-4', '-3', '-1', '0', '4', '8']\n",
    "\n",
    "# Convert the string positions to integers\n",
    "points = [int(point) for point in points]\n",
    "\n",
    "# Sort the points in ascending order\n",
    "sorted_points = sorted(points)\n",
    "\n",
    "# Calculate the distance between the two furthest particles\n",
    "distance = sorted_points[-1] - sorted_points[0]  # Maximum - Minimum\n",
    "\n",
    "# Print the result\n",
    "print(f\"The distance between the two furthest particles is: {distance}\")\n"
   ]
  },
  {
   "cell_type": "markdown",
   "metadata": {},
   "source": [
    "# Exercises: Level 2"
   ]
  },
  {
   "cell_type": "markdown",
   "metadata": {},
   "source": [
    "## Question 1:\n",
    "Write a pattern which identifies if a string is a valid python variable\n",
    "```python\n",
    "is_valid_variable('first_name') # True\n",
    "is_valid_variable('first-name') # False\n",
    "is_valid_variable('1first_name') # False\n",
    "is_valid_variable('firstname') # True"
   ]
  },
  {
   "cell_type": "code",
   "execution_count": 2,
   "metadata": {},
   "outputs": [
    {
     "name": "stdout",
     "output_type": "stream",
     "text": [
      "True\n",
      "False\n",
      "False\n",
      "True\n"
     ]
    }
   ],
   "source": [
    "import re\n",
    "\n",
    "def is_valid_variable(variable):\n",
    "    # Regular expression to match a valid Python variable name\n",
    "    pattern = r'^[a-zA-Z_]\\w*$'\n",
    "    \n",
    "    # Return True if the variable matches the pattern, False otherwise\n",
    "    return bool(re.match(pattern, variable))\n",
    "\n",
    "# Test cases\n",
    "print(is_valid_variable('first_name'))  # True\n",
    "print(is_valid_variable('first-name'))  # False\n",
    "print(is_valid_variable('1first_name')) # False\n",
    "print(is_valid_variable('firstname'))   # True\n"
   ]
  },
  {
   "cell_type": "markdown",
   "metadata": {},
   "source": [
    "# Exercises: Level 3\n",
    "Clean the following text. After cleaning, count three most frequent words in the string.\n",
    "```python\n",
    "sentence = '''%I $am@% a %tea@cher%, &and& I lo%#ve %tea@ching%;. There $is nothing; &as& mo@re rewarding as educa@ting &and& @emp%o@wering peo@ple. ;I found tea@ching m%o@re interesting tha@n any other %jo@bs. %Do@es thi%s mo@tivate yo@u to be a tea@cher!?'''\n",
    "\n",
    "print(clean_text(sentence));\n",
    "I am a teacher and I love teaching There is nothing as more rewarding as educating and empowering people I found teaching more interesting than any other jobs Does this motivate you to be a teacher\n",
    "print(most_frequent_words(cleaned_text)) # [(3, 'I'), (2, 'teaching'), (2, 'teacher')]\n"
   ]
  },
  {
   "cell_type": "code",
   "execution_count": 1,
   "metadata": {},
   "outputs": [
    {
     "name": "stdout",
     "output_type": "stream",
     "text": [
      "Cleaned Text: i am a teacher and i love teaching there is nothing as more rewarding as educating and empowering people i found teaching more interesting than any other jobs does this motivate you to be a teacher\n",
      "[('i', 3), ('a', 2), ('teacher', 2)]\n"
     ]
    }
   ],
   "source": [
    "import re\n",
    "from collections import Counter\n",
    "\n",
    "def clean_text(sentence):\n",
    "    # Remove non-alphanumeric characters (except spaces)\n",
    "    cleaned_sentence = re.sub(r'[^a-zA-Z\\s]', '', sentence)\n",
    "    # Convert the sentence to lowercase\n",
    "    cleaned_sentence = cleaned_sentence.lower()\n",
    "    return cleaned_sentence\n",
    "\n",
    "def most_frequent_words(cleaned_text):\n",
    "    # Split the cleaned text into words\n",
    "    words = cleaned_text.split()\n",
    "    # Count the frequency of each word using Counter\n",
    "    word_counts = Counter(words)\n",
    "    # Get the 3 most common words\n",
    "    most_common_words = word_counts.most_common(3)\n",
    "    return most_common_words\n",
    "\n",
    "# Example sentence\n",
    "sentence = '''%I $am@% a %tea@cher%, &and& I lo%#ve %tea@ching%;. There $is nothing; &as& mo@re rewarding as educa@ting &and& @emp%o@wering peo@ple. ;I found tea@ching m%o@re interesting tha@n any other %jo@bs. %Do@es thi%s mo@tivate yo@u to be a tea@cher!?'''\n",
    "\n",
    "# Clean the sentence\n",
    "cleaned_text = clean_text(sentence)\n",
    "print(f\"Cleaned Text: {cleaned_text}\")\n",
    "\n",
    "# Get the most frequent words\n",
    "print(most_frequent_words(cleaned_text))  # [(3, 'i'), (2, 'tea@ching'), (2, 'tea@cher')]\n"
   ]
  }
 ],
 "metadata": {
  "kernelspec": {
   "display_name": "Arewa_Testing",
   "language": "python",
   "name": "python3"
  },
  "language_info": {
   "codemirror_mode": {
    "name": "ipython",
    "version": 3
   },
   "file_extension": ".py",
   "mimetype": "text/x-python",
   "name": "python",
   "nbconvert_exporter": "python",
   "pygments_lexer": "ipython3",
   "version": "3.10.15"
  }
 },
 "nbformat": 4,
 "nbformat_minor": 2
}
