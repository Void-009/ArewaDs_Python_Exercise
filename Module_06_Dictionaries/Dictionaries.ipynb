{
 "cells": [
  {
   "cell_type": "markdown",
   "metadata": {},
   "source": [
    "# Module 6 Exercises"
   ]
  },
  {
   "cell_type": "markdown",
   "metadata": {},
   "source": [
    "## Question 1:\n",
    "Create an empty dictionary called dog"
   ]
  },
  {
   "cell_type": "code",
   "execution_count": 4,
   "metadata": {},
   "outputs": [
    {
     "name": "stdout",
     "output_type": "stream",
     "text": [
      "{}\n"
     ]
    }
   ],
   "source": [
    "dog = {}\n",
    "# we create a new dictionary using curly bracket notation\n",
    "print(dog)"
   ]
  },
  {
   "cell_type": "markdown",
   "metadata": {},
   "source": [
    "## Question 2:\n",
    "Add name, color, breed, legs, age to the dog dictionary"
   ]
  },
  {
   "cell_type": "code",
   "execution_count": 3,
   "metadata": {},
   "outputs": [
    {
     "name": "stdout",
     "output_type": "stream",
     "text": [
      "{'name': 'keven', 'color': 'brown', 'breed': 'italian', 'legs': 4, 'age': 5}\n"
     ]
    }
   ],
   "source": [
    "# we add key-value pairs to the dictionary using square bracket notation with the key and value separated by a colon\n",
    "# or we use the the equals sign to indicate the value\n",
    "dog['name'] = 'keven'\n",
    "dog['color'] = 'brown'\n",
    "dog['breed'] = 'italian'\n",
    "dog['legs'] = 4\n",
    "dog['age'] = 5\n",
    "print(dog)"
   ]
  },
  {
   "cell_type": "markdown",
   "metadata": {},
   "source": [
    "## Question 3:\n",
    "Create a student dictionary and add first_name, last_name, gender, age, marital status, skills, country, city and address as keys for the dictionary\n"
   ]
  },
  {
   "cell_type": "code",
   "execution_count": 15,
   "metadata": {},
   "outputs": [
    {
     "name": "stdout",
     "output_type": "stream",
     "text": [
      "{'first_name': 'Farooq', 'last_name': 'Umar', 'gender': 'Male', 'age': 10, 'marial status': 'Single', 'skills': ['drawing', 'writing', 'coding'], 'country': 'Nigeria', 'city': 'Kano', 'address': 'D/Babba Cikin gari'}\n"
     ]
    }
   ],
   "source": [
    "# we can create and assign the value to the dictionary at the instant we created it by using the following syntax\n",
    "student = {\n",
    "    'first_name': 'Farooq',\n",
    "    'last_name': 'Umar',\n",
    "    'gender': 'Male',\n",
    "    'age': 10,\n",
    "    'marial status': 'Single',\n",
    "    'skills':['drawing', 'writing', 'coding'], \n",
    "    'country': 'Nigeria',\n",
    "    'city': 'Kano',\n",
    "    'address': 'D/Babba Cikin gari'\n",
    "    \n",
    "}\n",
    "print(student)"
   ]
  },
  {
   "cell_type": "markdown",
   "metadata": {},
   "source": [
    "## Question 4:\n",
    "Get the length of the student dictionary"
   ]
  },
  {
   "cell_type": "code",
   "execution_count": 16,
   "metadata": {},
   "outputs": [
    {
     "name": "stdout",
     "output_type": "stream",
     "text": [
      "9\n"
     ]
    }
   ],
   "source": [
    "print(len(student))"
   ]
  },
  {
   "cell_type": "markdown",
   "metadata": {},
   "source": [
    "## Question 5:\n",
    "Get the value of skills and check the data type, it should be a list"
   ]
  },
  {
   "cell_type": "code",
   "execution_count": 19,
   "metadata": {},
   "outputs": [
    {
     "name": "stdout",
     "output_type": "stream",
     "text": [
      "<class 'list'>\n"
     ]
    }
   ],
   "source": [
    "# Accessing the 'skills' value and checking its type\n",
    "skill = type(student['skills'])\n",
    "print(skill)"
   ]
  },
  {
   "cell_type": "markdown",
   "metadata": {},
   "source": [
    "## Question 6:\n",
    "Modify the skills values by adding one or two skills"
   ]
  },
  {
   "cell_type": "code",
   "execution_count": 20,
   "metadata": {},
   "outputs": [
    {
     "name": "stdout",
     "output_type": "stream",
     "text": [
      "{'first_name': 'Farooq', 'last_name': 'Umar', 'gender': 'Male', 'age': 10, 'marial status': 'Single', 'skills': ['drawing', 'writing', 'coding', 'painting', 'music'], 'country': 'Nigeria', 'city': 'Kano', 'address': 'D/Babba Cikin gari'}\n"
     ]
    }
   ],
   "source": [
    "# Adding new skills\n",
    "student['skills'].extend(['painting', 'music'])  # Adding 'painting' and 'music'\n",
    "\n",
    "#T he extend() method is used to add multiple new values\n",
    "print(student)"
   ]
  },
  {
   "cell_type": "markdown",
   "metadata": {},
   "source": [
    "## Question 7:\n",
    "Get the dictionary keys as a list"
   ]
  },
  {
   "cell_type": "code",
   "execution_count": 22,
   "metadata": {},
   "outputs": [
    {
     "name": "stdout",
     "output_type": "stream",
     "text": [
      "['first_name', 'last_name', 'gender', 'age', 'marial status', 'skills', 'country', 'city', 'address']\n"
     ]
    }
   ],
   "source": [
    "# Getting the dictionary keys as a list\n",
    "student_list = list(student.keys())\n",
    "\n",
    "\"\"\" student.keys() returns a view object that displays a list of all the keys in the dictionary.\n",
    "    list(student.keys()) converts that view object into a list.\n",
    "\"\"\"\n",
    "print(student_list)"
   ]
  },
  {
   "cell_type": "markdown",
   "metadata": {},
   "source": [
    "## Question 8:\n",
    "Get the dictionary values as a list"
   ]
  },
  {
   "cell_type": "code",
   "execution_count": 23,
   "metadata": {},
   "outputs": [
    {
     "name": "stdout",
     "output_type": "stream",
     "text": [
      "['Farooq', 'Umar', 'Male', 10, 'Single', ['drawing', 'writing', 'coding', 'painting', 'music'], 'Nigeria', 'Kano', 'D/Babba Cikin gari']\n"
     ]
    }
   ],
   "source": [
    "student_values = list(student.values())\n",
    "print(student_values)"
   ]
  },
  {
   "cell_type": "markdown",
   "metadata": {},
   "source": [
    "## Question 9:\n",
    "Change the dictionary to a list of tuples using items() method\n"
   ]
  },
  {
   "cell_type": "code",
   "execution_count": 24,
   "metadata": {},
   "outputs": [
    {
     "name": "stdout",
     "output_type": "stream",
     "text": [
      "('first_name', 'last_name', 'gender', 'age', 'marial status', 'skills', 'country', 'city', 'address')\n",
      "['first_name', 'last_name', 'gender', 'age', 'marial status', 'skills', 'country', 'city', 'address']\n"
     ]
    }
   ],
   "source": [
    "new_student = tuple(student)\n",
    "print(new_student)\n",
    "new1 = list(student)\n",
    "print(new1)"
   ]
  },
  {
   "cell_type": "markdown",
   "metadata": {},
   "source": [
    "## Question 10:\n",
    "Delete one of the items in the dictionary"
   ]
  },
  {
   "cell_type": "code",
   "execution_count": 26,
   "metadata": {},
   "outputs": [
    {
     "name": "stdout",
     "output_type": "stream",
     "text": [
      "{'first_name': 'Farooq', 'last_name': 'Umar', 'gender': 'Male', 'age': 10, 'marial status': 'Single', 'skills': ['drawing', 'writing', 'coding', 'painting', 'music'], 'country': 'Nigeria', 'city': 'Kano', 'address': 'D/Babba Cikin gari'}\n"
     ]
    }
   ],
   "source": [
    "# Attempt to remove the 'name' key and handle the error if it doesn't exist because if we just used student.pop('first_name') it can generated an error if the item didnt exist\n",
    "\n",
    "removed_value = student.pop('name', None)  # None is the default value if 'name' does not exist\n",
    "\n",
    "print(student)"
   ]
  },
  {
   "cell_type": "markdown",
   "metadata": {},
   "source": [
    "## Question 11:\n",
    "Delete one of the dictionaries"
   ]
  },
  {
   "cell_type": "code",
   "execution_count": 28,
   "metadata": {},
   "outputs": [
    {
     "name": "stdout",
     "output_type": "stream",
     "text": [
      "The dict 'dog' is not defined.\n",
      "The dict 'dog' has been deleted or is not defined.\n"
     ]
    }
   ],
   "source": [
    "\"\"\"\n",
    "del dog  # This will raise an error if 'dog' was not defined before\n",
    "print(dog)  # This will raise a NameError since 'dog' has been deleted\n",
    "\"\"\"\n",
    "try:\n",
    "    del dog\n",
    "except NameError:\n",
    "    print(\"The dict 'dog' is not defined.\")\n",
    "\n",
    "# This will not raise an error now\n",
    "try:\n",
    "    print(dog)\n",
    "except NameError:\n",
    "    print(\"The dict 'dog' has been deleted or is not defined.\")"
   ]
  }
 ],
 "metadata": {
  "kernelspec": {
   "display_name": "Arewa_testing",
   "language": "python",
   "name": "python3"
  },
  "language_info": {
   "codemirror_mode": {
    "name": "ipython",
    "version": 3
   },
   "file_extension": ".py",
   "mimetype": "text/x-python",
   "name": "python",
   "nbconvert_exporter": "python",
   "pygments_lexer": "ipython3",
   "version": "3.10.15"
  }
 },
 "nbformat": 4,
 "nbformat_minor": 2
}
