{
 "cells": [
  {
   "cell_type": "markdown",
   "metadata": {},
   "source": [
    "# Module 7 Exercises"
   ]
  },
  {
   "cell_type": "markdown",
   "metadata": {},
   "source": [
    "## Level 1 Exercises: "
   ]
  },
  {
   "cell_type": "markdown",
   "metadata": {},
   "source": [
    "### Question 1:\n",
    "Get user input using input(“Enter your age: ”). If user is 18 or older, give feedback: You are old enough to drive. If below 18 give feedback to wait for the missing amount of years. Output:\n",
    "```sh\n",
    "Enter your age: 30\n",
    "You are old enough to learn to drive.\n",
    "Output:\n",
    "Enter your age: 15\n",
    "You need 3 more years to learn to drive.\n"
   ]
  },
  {
   "cell_type": "code",
   "execution_count": 2,
   "metadata": {},
   "outputs": [
    {
     "name": "stdout",
     "output_type": "stream",
     "text": [
      "You are old enough to learn to drive.\n"
     ]
    }
   ],
   "source": [
    "age = int(input('Enter your age :'))\n",
    "if age >= 18:\n",
    "    print('You are old enough to learn to drive.')\n",
    "else:\n",
    "    print('You need {} years to learn to drive.'.format(18 - age))\n",
    "\"\"\"\n",
    "The string 'You need {} years to learn to drive.' contains a placeholder '{}' This placeholder is where a value will be inserted into the string when it is formatted.\n",
    "\n",
    "The format() method is called on the string. It takes the expression inside the parentheses and replaces the placeholder {} with the result of that expression.\n",
    "In this case, 18 - age is the expression being evaluated.\n",
    "\n",
    "\"\"\""
   ]
  },
  {
   "cell_type": "markdown",
   "metadata": {},
   "source": [
    "### Question 2:\n",
    "Compare the values of my_age and your_age using if … else. Who is older (me or you)? Use input(“Enter your age: ”) to get the age as input. You can use a nested condition to print 'year' for 1 year difference in age, 'years' for bigger differences, and a custom text if my_age = your_age. Output:\n",
    "```sh\n",
    "Enter your age: 30\n",
    "You are 5 years older than me."
   ]
  },
  {
   "cell_type": "code",
   "execution_count": 7,
   "metadata": {},
   "outputs": [
    {
     "name": "stdout",
     "output_type": "stream",
     "text": [
      "We are the same age.\n"
     ]
    }
   ],
   "source": [
    "# Define my age\n",
    "my_age = 12  \n",
    "\n",
    "# Get the age as input\n",
    "your_age = int(input(\"Enter your age: \"))\n",
    "\n",
    "# Compare ages\n",
    "if your_age > my_age:\n",
    "    age_difference = your_age - my_age\n",
    "    if age_difference == 1:\n",
    "        print(\"You are 1 year older than me.\")\n",
    "    else:\n",
    "        print(f\"You are {age_difference} years older than me.\")\n",
    "elif your_age < my_age:\n",
    "    age_difference = my_age - your_age\n",
    "    if age_difference == 1:\n",
    "        print(\"I am 1 year older than you.\")\n",
    "    else:\n",
    "        print(f\"I am {age_difference} years older than you.\")\n",
    "else:\n",
    "    print(\"We are the same age.\")"
   ]
  },
  {
   "cell_type": "markdown",
   "metadata": {},
   "source": [
    "### Question 3:\n",
    "Get two numbers from the user using input prompt. If a is greater than b return a is greater than b, if a is less b return a is smaller than b, else a is equal to b. Output:\n",
    "```sh\n",
    "Enter number one: 4\n",
    "Enter number two: 3\n",
    "4 is greater than 3"
   ]
  },
  {
   "cell_type": "code",
   "execution_count": 8,
   "metadata": {},
   "outputs": [
    {
     "name": "stdout",
     "output_type": "stream",
     "text": [
      "4.0 is greater than 3.0\n"
     ]
    }
   ],
   "source": [
    "# Get two numbers from the user\n",
    "a = float(input(\"Enter number one: \"))  # Convert input to float for decimal support\n",
    "b = float(input(\"Enter number two: \"))  # Convert input to float for decimal support\n",
    "\n",
    "# Compare the two numbers\n",
    "if a > b:\n",
    "    print(f\"{a} is greater than {b}\")\n",
    "elif a < b:\n",
    "    print(f\"{a} is smaller than {b}\")\n",
    "else:\n",
    "    print(f\"{a} is equal to {b}\")"
   ]
  },
  {
   "cell_type": "markdown",
   "metadata": {},
   "source": [
    "## Level 2 Exercises: \n"
   ]
  },
  {
   "cell_type": "markdown",
   "metadata": {},
   "source": [
    "### Question 1:\n",
    "Write a code which gives grade to students according to theirs scores:\n",
    "```sh\n",
    "80-100, A\n",
    "70-89, B\n",
    "60-69, C\n",
    "50-59, D\n",
    "0-49, F"
   ]
  },
  {
   "cell_type": "code",
   "execution_count": 9,
   "metadata": {},
   "outputs": [
    {
     "name": "stdout",
     "output_type": "stream",
     "text": [
      "The student's grade is: Invalid score\n"
     ]
    }
   ],
   "source": [
    "# Get the grade from the user\n",
    "score = float(input(\"Enter the student's score: \"))\n",
    "\n",
    "# Determine the grade based on the score\n",
    "if 80 <= score <= 100:\n",
    "    grade = 'A'\n",
    "elif 70 <= score < 80:\n",
    "    grade = 'B'\n",
    "elif 60 <= score < 70:\n",
    "    grade = 'C'\n",
    "elif 50 <= score < 60:\n",
    "    grade = 'D'\n",
    "elif 0 <= score < 50:\n",
    "    grade = 'F'\n",
    "else:\n",
    "    grade = 'Invalid score Please Enter The Valid Input'  # Handle scores outside the range of 0-100\n",
    "\n",
    "# Output the grade\n",
    "print(f\"The student's grade is: {grade}\")"
   ]
  },
  {
   "cell_type": "markdown",
   "metadata": {},
   "source": [
    "### Question 2:\n",
    "Check if the season is Autumn, Winter, Spring or Summer. If the user input is: September, October or November, the season is Autumn. December, January or February, the season is Winter. March, April or May, the season is Spring June, July or August, the season is Summer\n"
   ]
  },
  {
   "cell_type": "code",
   "execution_count": 12,
   "metadata": {},
   "outputs": [
    {
     "name": "stdout",
     "output_type": "stream",
     "text": [
      "The season is: Invalid month\n"
     ]
    }
   ],
   "source": [
    "# Get the month from the user\n",
    "month = input(\"Enter the month: \").strip().lower()  # The strip() method removes any leading or trailing whitespace, and lower() converts the input to lowercase to make the comparison case-insensitive.\n",
    "\n",
    "# Determine the season based on the month\n",
    "if month in ['september', 'october', 'november']:\n",
    "    season = 'Autumn'\n",
    "elif month in ['december', 'january', 'february']:\n",
    "    season = 'Winter'\n",
    "elif month in ['march', 'april', 'may']:\n",
    "    season = 'Spring'\n",
    "elif month in ['june', 'july', 'august']:\n",
    "    season = 'Summer'\n",
    "else:\n",
    "    season = 'Invalid month'  # Handle invalid input\n",
    "\n",
    "# Output the result\n",
    "print(f\"The season is: {season}\")"
   ]
  },
  {
   "cell_type": "markdown",
   "metadata": {},
   "source": [
    "### Question 3:\n",
    "The following list contains some fruits:\n",
    "```sh\n",
    "```sh\n",
    "fruits = ['banana', 'orange', 'mango', 'lemon']\n",
    "```\n",
    "\n",
    "If a fruit doesn't exist in the list add the fruit to the list and print the modified list. If the fruit exists print('That fruit already exist in the list')\n"
   ]
  },
  {
   "cell_type": "code",
   "execution_count": 15,
   "metadata": {},
   "outputs": [
    {
     "name": "stdout",
     "output_type": "stream",
     "text": [
      "Modified list of fruits: ['banana', 'orange', 'mango', 'lemon', 'apple']\n"
     ]
    }
   ],
   "source": [
    "# Initial list of fruits\n",
    "fruits = ['banana', 'orange', 'mango', 'lemon']\n",
    "\n",
    "# Get the fruit from the user\n",
    "fruit_to_check = input(\"Enter a fruit: \").strip().lower()  # Normalize input\n",
    "\n",
    "# Check if the fruit exists in the list\n",
    "if fruit_to_check in fruits:\n",
    "    print('That fruit already exists in the list.')\n",
    "else:\n",
    "    fruits.append(fruit_to_check)  # Add the fruit to the list\n",
    "    print('Modified list of fruits:', fruits)"
   ]
  },
  {
   "cell_type": "markdown",
   "metadata": {},
   "source": [
    "## Level 3 Exercises: \n"
   ]
  },
  {
   "cell_type": "markdown",
   "metadata": {},
   "source": [
    "### Question 1:\n",
    "Here we have a person dictionary. Feel free to modify it!\n",
    "```sh\n",
    "        person={\n",
    "    'first_name': 'Asabeneh',\n",
    "    'last_name': 'Yetayeh',\n",
    "    'age': 250,\n",
    "    'country': 'Finland',\n",
    "    'is_marred': True,\n",
    "    'skills': ['JavaScript', 'React', 'Node', 'MongoDB', 'Python'],\n",
    "    'address': {\n",
    "        'street': 'Space street',\n",
    "        'zipcode': '02210'\n",
    "    }\n",
    "    }\n",
    "* Check if the person dictionary has skills key, if so print out the middle skill in the skills list.\n",
    "* Check if the person dictionary has skills key, if so check if the person has 'Python' skill and print out the result.\n",
    "* If a person skills has only JavaScript and React, print('He is a front end developer'), if the person skills has Node, Python, MongoDB, print('He is a backend developer'), if the person  skills has React, Node and MongoDB, Print('He is a fullstack developer'), else print('unknown title') - for more accurate results more conditions can be nested!\n",
    "* If the person is married and if he lives in Finland, print the information in the following format:\n",
    "    Asabeneh Yetayeh lives in Finland. He is married."
   ]
  },
  {
   "cell_type": "code",
   "execution_count": 17,
   "metadata": {},
   "outputs": [
    {
     "name": "stdout",
     "output_type": "stream",
     "text": [
      "The middle skill of Asabeneh Yetayeh is: Node\n",
      "Asabeneh has Python skill.\n",
      "Asabeneh is a fullstack developer.\n",
      "Asabeneh Yetayeh lives in Finland. He is married.\n",
      "\n",
      "The middle skill of John Doe is: React\n",
      "John does not have Python skill.\n",
      "John is a front end developer.\n",
      "\n",
      "The middle skill of Alice Smith is: Django\n",
      "Alice has Python skill.\n",
      "Alice is a backend developer using Django.\n",
      "\n",
      "The middle skill of Bob Brown is: Spring\n",
      "Bob does not have Python skill.\n",
      "Bob is a backend developer using Java.\n",
      "\n",
      "The middle skill of Eve Davis is: HTML\n",
      "Eve does not have Python skill.\n",
      "Eve is a front end developer.\n",
      "\n"
     ]
    }
   ],
   "source": [
    "# List of people dictionaries\n",
    "people = [\n",
    "    {\n",
    "        'first_name': 'Asabeneh',\n",
    "        'last_name': 'Yetayeh',\n",
    "        'age': 250,\n",
    "        'country': 'Finland',\n",
    "        'is_married': True,\n",
    "        'skills': ['JavaScript', 'React', 'Node', 'MongoDB', 'Python'],\n",
    "        'address': {\n",
    "            'street': 'Space street',\n",
    "            'zipcode': '02210'\n",
    "        }\n",
    "    },\n",
    "    {\n",
    "        'first_name': 'John',\n",
    "        'last_name': 'Doe',\n",
    "        'age': 30,\n",
    "        'country': 'USA',\n",
    "        'is_married': False,\n",
    "        'skills': ['JavaScript', 'React'],\n",
    "        'address': {\n",
    "            'street': 'Main street',\n",
    "            'zipcode': '10001'\n",
    "        }\n",
    "    },\n",
    "    {\n",
    "        'first_name': 'Alice',\n",
    "        'last_name': 'Smith',\n",
    "        'age': 28,\n",
    "        'country': 'UK',\n",
    "        'is_married': True,\n",
    "        'skills': ['Python', 'Django'],\n",
    "        'address': {\n",
    "            'street': 'Baker street',\n",
    "            'zipcode': '221B'\n",
    "        }\n",
    "    },\n",
    "    {\n",
    "        'first_name': 'Bob',\n",
    "        'last_name': 'Brown',\n",
    "        'age': 35,\n",
    "        'country': 'Canada',\n",
    "        'is_married': True,\n",
    "        'skills': ['Java', 'Spring'],\n",
    "        'address': {\n",
    "            'street': 'Maple street',\n",
    "            'zipcode': 'A1B 2C3'\n",
    "        }\n",
    "    },\n",
    "    {\n",
    "        'first_name': 'Eve',\n",
    "        'last_name': 'Davis',\n",
    "        'age': 22,\n",
    "        'country': 'Australia',\n",
    "        'is_married': False,\n",
    "        'skills': ['JavaScript', 'HTML', 'CSS'],\n",
    "        'address': {\n",
    "            'street': 'Ocean street',\n",
    "            'zipcode': '2000'\n",
    "        }\n",
    "    }\n",
    "]\n",
    "\n",
    "# Function to analyze each person's information\n",
    "def analyze_person(person):\n",
    "    # Check if the person dictionary has 'skills' key\n",
    "    if 'skills' in person:\n",
    "        skills = person['skills']\n",
    "        \n",
    "        # Print out the middle skill in the skills list\n",
    "        middle_index = len(skills) // 2\n",
    "        middle_skill = skills[middle_index]\n",
    "        print(f\"The middle skill of {person['first_name']} {person['last_name']} is: {middle_skill}\")\n",
    "\n",
    "        # Check if the person has 'Python' skill\n",
    "        if 'Python' in skills:\n",
    "            print(f\"{person['first_name']} has Python skill.\")\n",
    "        else:\n",
    "            print(f\"{person['first_name']} does not have Python skill.\")\n",
    "\n",
    "        # Determine the role based on skills\n",
    "        if 'JavaScript' in skills and 'React' in skills:\n",
    "            if 'Node' in skills or 'MongoDB' in skills:\n",
    "                print(f\"{person['first_name']} is a fullstack developer.\")\n",
    "            else:\n",
    "                print(f\"{person['first_name']} is a front end developer.\")\n",
    "        elif 'Node' in skills and 'Python' in skills and 'MongoDB' in skills:\n",
    "            print(f\"{person['first_name']} is a backend developer.\")\n",
    "        elif 'React' in skills and 'Node' in skills and 'MongoDB' in skills:\n",
    "            print(f\"{person['first_name']} is a fullstack developer.\")\n",
    "        elif 'JavaScript' in skills and 'HTML' in skills and 'CSS' in skills:\n",
    "            print(f\"{person['first_name']} is a front end developer.\")\n",
    "        elif 'Python' in skills and 'Django' in skills:\n",
    "            print(f\"{person['first_name']} is a backend developer using Django.\")\n",
    "        elif 'Java' in skills and 'Spring' in skills:\n",
    "            print(f\"{person['first_name']} is a backend developer using Java.\")\n",
    "        else:\n",
    "            print(f\"{person['first_name']} has an unknown title.\")\n",
    "\n",
    "    # Check if the person is married and lives in Finland\n",
    "    if person['is_married'] and person['country'] == 'Finland':\n",
    "        print(f\"{person['first_name']} {person['last_name']} lives in {person['country']}. He is married.\")\n",
    "\n",
    "# Analyze each person in the list\n",
    "for person in people:\n",
    "    analyze_person(person)\n",
    "    print()  # Print a newline for better readability "
   ]
  }
 ],
 "metadata": {
  "kernelspec": {
   "display_name": "Arewa_Testing",
   "language": "python",
   "name": "python3"
  },
  "language_info": {
   "codemirror_mode": {
    "name": "ipython",
    "version": 3
   },
   "file_extension": ".py",
   "mimetype": "text/x-python",
   "name": "python",
   "nbconvert_exporter": "python",
   "pygments_lexer": "ipython3",
   "version": "3.10.15"
  }
 },
 "nbformat": 4,
 "nbformat_minor": 2
}
